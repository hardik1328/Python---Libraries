{
 "cells": [
  {
   "cell_type": "code",
   "execution_count": 1,
   "id": "db113869-e20c-429a-9d90-6238746863a4",
   "metadata": {},
   "outputs": [],
   "source": [
    "# numpy --> numpy is an open - source library that is used scitific calculations.\n"
   ]
  },
  {
   "cell_type": "markdown",
   "id": "22f7e5fd-b751-431c-83e4-f19d4142f424",
   "metadata": {},
   "source": [
    "# Why numpy is better than list?"
   ]
  },
  {
   "cell_type": "code",
   "execution_count": 5,
   "id": "a14ac314-8376-45d4-89f6-c0a3d8d72479",
   "metadata": {},
   "outputs": [],
   "source": [
    "# 1) Numpy is homogenous data type and list is heterogenous datatype.\n",
    "# 2) numpy take less memory while list take more memory.\n",
    "# 3) numpy take less execution time while list take more time.\n",
    "# 4) numpy has more funcationality as compare to list.\n"
   ]
  },
  {
   "cell_type": "code",
   "execution_count": 11,
   "id": "6deb642d-ead2-4268-9739-01a88feced23",
   "metadata": {},
   "outputs": [],
   "source": [
    "import numpy as np"
   ]
  },
  {
   "cell_type": "code",
   "execution_count": 9,
   "id": "05bd66d9-0a24-46b4-a33c-20e806d1e8a8",
   "metadata": {},
   "outputs": [
    {
     "data": {
      "text/plain": [
       "list"
      ]
     },
     "execution_count": 9,
     "metadata": {},
     "output_type": "execute_result"
    }
   ],
   "source": [
    "a = [1,45,78,90]\n",
    "type(a)"
   ]
  },
  {
   "cell_type": "code",
   "execution_count": 15,
   "id": "e7b7f413-fcc8-4a9c-88a1-418dee101d70",
   "metadata": {},
   "outputs": [
    {
     "data": {
      "text/plain": [
       "array([ 1, 45, 78, 90])"
      ]
     },
     "execution_count": 15,
     "metadata": {},
     "output_type": "execute_result"
    }
   ],
   "source": [
    "b= np.array(a)\n",
    "b"
   ]
  },
  {
   "cell_type": "code",
   "execution_count": 17,
   "id": "4c370505-a0ab-4b0a-aea5-b148a5f47c5b",
   "metadata": {},
   "outputs": [
    {
     "data": {
      "text/plain": [
       "numpy.ndarray"
      ]
     },
     "execution_count": 17,
     "metadata": {},
     "output_type": "execute_result"
    }
   ],
   "source": [
    "type(b)"
   ]
  },
  {
   "cell_type": "code",
   "execution_count": 35,
   "id": "c7a05a04-7fde-469d-81f9-3d350b0b291e",
   "metadata": {},
   "outputs": [
    {
     "data": {
      "text/plain": [
       "array([[1, 2, 3],\n",
       "       [4, 5, 6],\n",
       "       [7, 8, 9]])"
      ]
     },
     "execution_count": 35,
     "metadata": {},
     "output_type": "execute_result"
    }
   ],
   "source": [
    "a = [[1,2,3],[4,5,6],[7,8,9]]\n",
    "b = np.array(a)\n",
    "b"
   ]
  },
  {
   "cell_type": "markdown",
   "id": "436de597-99d1-4458-bc0e-9e18fe441120",
   "metadata": {},
   "source": [
    "# how can we check shape,size , dimension of an array?\n"
   ]
  },
  {
   "cell_type": "code",
   "execution_count": 26,
   "id": "1ce5f40e-bbe3-44ef-bd1f-ee8a368362dd",
   "metadata": {},
   "outputs": [
    {
     "name": "stdout",
     "output_type": "stream",
     "text": [
      "total rows and columns (3, 3)\n",
      "total elements 9\n",
      "total dimension: 2\n"
     ]
    }
   ],
   "source": [
    "print(\"total rows and columns\",b.shape)  ## shape = n(rows), n(columns)\n",
    "print(\"total elements\",b.size)   ## size = n(rows)*n(columns)\n",
    "print(\"total dimension:\",b.ndim)  # ndim stands for n-dimensional"
   ]
  },
  {
   "cell_type": "markdown",
   "id": "06868c31-3939-4ffc-93b8-44857adac0bc",
   "metadata": {},
   "source": [
    "# how can we create a user-defined array?"
   ]
  },
  {
   "cell_type": "code",
   "execution_count": 31,
   "id": "fe7998e5-856a-4f1d-beed-38cf229d52f7",
   "metadata": {},
   "outputs": [
    {
     "name": "stdin",
     "output_type": "stream",
     "text": [
      "enter size: 3\n",
      "enter item: 12\n",
      "enter item: 46\n",
      "enter item: 78\n"
     ]
    },
    {
     "data": {
      "text/plain": [
       "array([12, 46, 78])"
      ]
     },
     "execution_count": 31,
     "metadata": {},
     "output_type": "execute_result"
    }
   ],
   "source": [
    "a = []\n",
    "size = int(input(\"enter size:\"))\n",
    "for i in range(size):\n",
    "    val = int(input(\"enter item:\"))\n",
    "    a.append(val)\n",
    "\n",
    "# print(a)\n",
    "b = np.array(a)\n",
    "b"
   ]
  },
  {
   "cell_type": "markdown",
   "id": "ab487dc0-c404-4844-a9bb-92ba4f19ff70",
   "metadata": {},
   "source": [
    "# Functions in numpy"
   ]
  },
  {
   "cell_type": "code",
   "execution_count": 42,
   "id": "26388f8b-dfca-4231-8ebb-b8650d037f8b",
   "metadata": {},
   "outputs": [],
   "source": [
    "# 1) Zeros() --> it will create an array in which all the values are zero either 1-d or multi-d."
   ]
  },
  {
   "cell_type": "code",
   "execution_count": 44,
   "id": "ad457104-64dc-47e1-bb18-4af9f0138d15",
   "metadata": {},
   "outputs": [
    {
     "data": {
      "text/plain": [
       "array([0., 0., 0., 0.])"
      ]
     },
     "execution_count": 44,
     "metadata": {},
     "output_type": "execute_result"
    }
   ],
   "source": [
    "a = np.zeros(4)\n",
    "a"
   ]
  },
  {
   "cell_type": "code",
   "execution_count": 48,
   "id": "b007c2de-4c2c-4273-ae29-091450d07f7a",
   "metadata": {},
   "outputs": [
    {
     "data": {
      "text/plain": [
       "array([[0., 0., 0.],\n",
       "       [0., 0., 0.]])"
      ]
     },
     "execution_count": 48,
     "metadata": {},
     "output_type": "execute_result"
    }
   ],
   "source": [
    "a = np.zeros((2,3))\n",
    "a"
   ]
  },
  {
   "cell_type": "code",
   "execution_count": 50,
   "id": "901f587d-3376-4bee-9f90-03d989666320",
   "metadata": {},
   "outputs": [],
   "source": [
    "# 2) ones() --. it will create an array in which all the values are 1 in either 1-d or mult-d."
   ]
  },
  {
   "cell_type": "code",
   "execution_count": 52,
   "id": "0e5e5403-d921-49a2-be46-72e2c2bde431",
   "metadata": {},
   "outputs": [
    {
     "data": {
      "text/plain": [
       "array([1., 1., 1., 1.])"
      ]
     },
     "execution_count": 52,
     "metadata": {},
     "output_type": "execute_result"
    }
   ],
   "source": [
    "a = np.ones(4)\n",
    "a"
   ]
  },
  {
   "cell_type": "code",
   "execution_count": 62,
   "id": "e8ec80a7-53cd-468f-a2ec-919fdd0c7c26",
   "metadata": {},
   "outputs": [
    {
     "data": {
      "text/plain": [
       "array([[1., 1., 1., 1.],\n",
       "       [1., 1., 1., 1.],\n",
       "       [1., 1., 1., 1.]])"
      ]
     },
     "execution_count": 62,
     "metadata": {},
     "output_type": "execute_result"
    }
   ],
   "source": [
    "a = np.ones((3,4))\n",
    "a"
   ]
  },
  {
   "cell_type": "code",
   "execution_count": 56,
   "id": "095f6c61-42aa-4f61-97ca-073af2cb8ce1",
   "metadata": {},
   "outputs": [],
   "source": [
    "# 3) eye() --> it will create an array in which digonal positional elements will be 1 and rest all are 0."
   ]
  },
  {
   "cell_type": "code",
   "execution_count": 64,
   "id": "574c7bcd-93b8-4523-9798-d00fa7a8af88",
   "metadata": {},
   "outputs": [
    {
     "data": {
      "text/plain": [
       "array([[1., 0., 0., 0.],\n",
       "       [0., 1., 0., 0.],\n",
       "       [0., 0., 1., 0.]])"
      ]
     },
     "execution_count": 64,
     "metadata": {},
     "output_type": "execute_result"
    }
   ],
   "source": [
    "a = np.eye(3,4)\n",
    "a"
   ]
  },
  {
   "cell_type": "code",
   "execution_count": 66,
   "id": "5bd8cfd1-cbdd-43de-9372-db637f9237e1",
   "metadata": {},
   "outputs": [],
   "source": [
    "# 4) --> diag() --> it will create an array in which we can customize our diag positional elements."
   ]
  },
  {
   "cell_type": "code",
   "execution_count": 68,
   "id": "7f7e5008-69eb-40bc-8c5b-a89e7f8094ea",
   "metadata": {},
   "outputs": [
    {
     "data": {
      "text/plain": [
       "array([ 1, 34, 67, 89])"
      ]
     },
     "execution_count": 68,
     "metadata": {},
     "output_type": "execute_result"
    }
   ],
   "source": [
    "a = np.array([1,34,67,89])\n",
    "a"
   ]
  },
  {
   "cell_type": "code",
   "execution_count": 70,
   "id": "9b24da86-40ac-41a0-9cdc-12f9957d9b39",
   "metadata": {},
   "outputs": [
    {
     "data": {
      "text/plain": [
       "array([[ 1,  0,  0,  0],\n",
       "       [ 0, 34,  0,  0],\n",
       "       [ 0,  0, 67,  0],\n",
       "       [ 0,  0,  0, 89]])"
      ]
     },
     "execution_count": 70,
     "metadata": {},
     "output_type": "execute_result"
    }
   ],
   "source": [
    "a = np.diag([1,34,67,89])\n",
    "a"
   ]
  },
  {
   "cell_type": "code",
   "execution_count": 72,
   "id": "360bb0ea-4e36-4898-ae85-e3e9fcf85853",
   "metadata": {},
   "outputs": [
    {
     "name": "stdout",
     "output_type": "stream",
     "text": [
      "7\n"
     ]
    }
   ],
   "source": [
    "arr = np.array([[[1, 2], [3, 4]], [[5, 6], [7, 8]]])\n",
    "print(arr[1, 1, 0])"
   ]
  },
  {
   "cell_type": "code",
   "execution_count": 76,
   "id": "ac124b9a-058d-4e24-bc63-d052fe46f269",
   "metadata": {},
   "outputs": [],
   "source": [
    "# 5) Random module\n",
    "\n",
    "# 1) randint --> it will create random number in a given range.\n",
    "# syntax --> np.random.randint(min_value , max_value , total_numbers)"
   ]
  },
  {
   "cell_type": "code",
   "execution_count": 78,
   "id": "5c5e7f95-fc5b-4e2d-a76a-8094cc651978",
   "metadata": {},
   "outputs": [
    {
     "data": {
      "text/plain": [
       "array([1, 8, 2])"
      ]
     },
     "execution_count": 78,
     "metadata": {},
     "output_type": "execute_result"
    }
   ],
   "source": [
    "a = np.random.randint(1,10,3)\n",
    "a"
   ]
  },
  {
   "cell_type": "code",
   "execution_count": 80,
   "id": "4a3fa894-34ba-4015-a31a-ef50e36fc252",
   "metadata": {},
   "outputs": [],
   "source": [
    "# 2) rand() --> it will create an array in which all the values will be from range 0 to 1."
   ]
  },
  {
   "cell_type": "code",
   "execution_count": 82,
   "id": "2e11b4e0-9778-4fe5-b78f-f4b49b91102a",
   "metadata": {},
   "outputs": [
    {
     "data": {
      "text/plain": [
       "array([0.03, 0.11, 0.52, 0.06])"
      ]
     },
     "execution_count": 82,
     "metadata": {},
     "output_type": "execute_result"
    }
   ],
   "source": [
    "a = np.random.rand(4)\n",
    "a"
   ]
  },
  {
   "cell_type": "code",
   "execution_count": 84,
   "id": "3963d615-8d80-4bf8-ab90-732159812000",
   "metadata": {},
   "outputs": [],
   "source": [
    "# 3) seed()  ---> it will fix our random generated data."
   ]
  },
  {
   "cell_type": "code",
   "execution_count": 88,
   "id": "3e44fb92-fe5c-46ee-bcca-bff415c9e724",
   "metadata": {},
   "outputs": [
    {
     "data": {
      "text/plain": [
       "array([7, 8, 6])"
      ]
     },
     "execution_count": 88,
     "metadata": {},
     "output_type": "execute_result"
    }
   ],
   "source": [
    "np.random.seed(40)\n",
    "a = np.random.randint(1,10,3)\n",
    "a"
   ]
  },
  {
   "cell_type": "markdown",
   "id": "b52aa039-a7dd-4eb2-8f87-71ffbf309c7f",
   "metadata": {},
   "source": [
    "# View vs Copy"
   ]
  },
  {
   "cell_type": "code",
   "execution_count": 91,
   "id": "6e68adc9-7371-4a5c-b01d-cf80bf44978c",
   "metadata": {},
   "outputs": [],
   "source": [
    "# view means modification in original dta.\n",
    "# copy means modification in duplicate data that will not reflect origianl data."
   ]
  },
  {
   "cell_type": "code",
   "execution_count": 93,
   "id": "fe1c765d-4127-4a6f-86ab-6cf34f86d3c9",
   "metadata": {},
   "outputs": [
    {
     "data": {
      "text/plain": [
       "array([1, 2, 3, 4, 5, 6, 7, 8])"
      ]
     },
     "execution_count": 93,
     "metadata": {},
     "output_type": "execute_result"
    }
   ],
   "source": [
    "a = np.array([1,2,3,4,5,6,7,8])\n",
    "a"
   ]
  },
  {
   "cell_type": "code",
   "execution_count": 95,
   "id": "6d9246ee-a453-407f-938e-46f8bfd4efef",
   "metadata": {},
   "outputs": [
    {
     "data": {
      "text/plain": [
       "array([0, 0, 0])"
      ]
     },
     "execution_count": 95,
     "metadata": {},
     "output_type": "execute_result"
    }
   ],
   "source": [
    "b = a[2:5]\n",
    "b[:] = 0\n",
    "b"
   ]
  },
  {
   "cell_type": "code",
   "execution_count": 97,
   "id": "4baef296-83b5-4814-b73b-0b0a86cc1bf2",
   "metadata": {},
   "outputs": [
    {
     "data": {
      "text/plain": [
       "array([1, 2, 0, 0, 0, 6, 7, 8])"
      ]
     },
     "execution_count": 97,
     "metadata": {},
     "output_type": "execute_result"
    }
   ],
   "source": [
    "a"
   ]
  },
  {
   "cell_type": "code",
   "execution_count": 99,
   "id": "e77aff76-e4be-4b39-8454-fa028ea0b963",
   "metadata": {},
   "outputs": [
    {
     "data": {
      "text/plain": [
       "array([0, 0, 0])"
      ]
     },
     "execution_count": 99,
     "metadata": {},
     "output_type": "execute_result"
    }
   ],
   "source": [
    "a = np.array([1,2,3,4,5,6,7,8])\n",
    "b = a[2:5].copy()\n",
    "b[:] = 0\n",
    "b"
   ]
  },
  {
   "cell_type": "code",
   "execution_count": 101,
   "id": "eec98e77-26dd-4099-8838-7731cc3bbe36",
   "metadata": {},
   "outputs": [
    {
     "data": {
      "text/plain": [
       "array([1, 2, 3, 4, 5, 6, 7, 8])"
      ]
     },
     "execution_count": 101,
     "metadata": {},
     "output_type": "execute_result"
    }
   ],
   "source": [
    "a"
   ]
  },
  {
   "cell_type": "markdown",
   "id": "5b409adb-90e2-4a99-8502-6e238ffe0f71",
   "metadata": {},
   "source": [
    "# Reshaping the array"
   ]
  },
  {
   "cell_type": "code",
   "execution_count": 104,
   "id": "ab925378-6b61-47e7-b84e-71a23037cebd",
   "metadata": {},
   "outputs": [],
   "source": [
    "# n(rows) * n(columns) = n(total_elements)"
   ]
  },
  {
   "cell_type": "code",
   "execution_count": 106,
   "id": "f38314b9-b43b-4544-937c-b16e5f409866",
   "metadata": {},
   "outputs": [
    {
     "data": {
      "text/plain": [
       "array([ 1,  2,  3,  4,  5,  6,  7,  8,  9, 10, 11, 12, 13, 14, 15])"
      ]
     },
     "execution_count": 106,
     "metadata": {},
     "output_type": "execute_result"
    }
   ],
   "source": [
    "a = np.arange(1,16)\n",
    "a"
   ]
  },
  {
   "cell_type": "code",
   "execution_count": 108,
   "id": "0aa44c1e-370a-40c3-952d-d34cac3cc67b",
   "metadata": {},
   "outputs": [
    {
     "data": {
      "text/plain": [
       "array([False, False, False, False, False, False, False, False, False,\n",
       "       False,  True,  True,  True,  True,  True])"
      ]
     },
     "execution_count": 108,
     "metadata": {},
     "output_type": "execute_result"
    }
   ],
   "source": [
    "a>10"
   ]
  },
  {
   "cell_type": "code",
   "execution_count": 110,
   "id": "12e403b9-6d45-4e29-b97c-706ab27997bc",
   "metadata": {},
   "outputs": [
    {
     "data": {
      "text/plain": [
       "array([11, 12, 13, 14, 15])"
      ]
     },
     "execution_count": 110,
     "metadata": {},
     "output_type": "execute_result"
    }
   ],
   "source": [
    "b = a>10\n",
    "a[b]"
   ]
  },
  {
   "cell_type": "code",
   "execution_count": 112,
   "id": "5762823b-f5c2-4705-a99d-e7f3eda90ac9",
   "metadata": {},
   "outputs": [
    {
     "data": {
      "text/plain": [
       "array([ 2,  4,  6,  8, 10, 12, 14])"
      ]
     },
     "execution_count": 112,
     "metadata": {},
     "output_type": "execute_result"
    }
   ],
   "source": [
    "a[a%2==0]"
   ]
  },
  {
   "cell_type": "code",
   "execution_count": 114,
   "id": "e5ca50f1-3f16-44e0-8f45-1ebfc5881ef9",
   "metadata": {},
   "outputs": [
    {
     "data": {
      "text/plain": [
       "array([  1,   4,   9,  16,  25,  36,  49,  64,  81, 100, 121, 144, 169,\n",
       "       196, 225])"
      ]
     },
     "execution_count": 114,
     "metadata": {},
     "output_type": "execute_result"
    }
   ],
   "source": [
    "a**2"
   ]
  },
  {
   "cell_type": "code",
   "execution_count": 116,
   "id": "aa418d40-1439-4909-bd7d-775f4309f604",
   "metadata": {},
   "outputs": [
    {
     "data": {
      "text/plain": [
       "array([   1,    8,   27,   64,  125,  216,  343,  512,  729, 1000, 1331,\n",
       "       1728, 2197, 2744, 3375], dtype=int32)"
      ]
     },
     "execution_count": 116,
     "metadata": {},
     "output_type": "execute_result"
    }
   ],
   "source": [
    "a**3"
   ]
  },
  {
   "cell_type": "code",
   "execution_count": 118,
   "id": "ff6d2aef-b0fa-45c6-b588-96dc41465fdb",
   "metadata": {},
   "outputs": [],
   "source": [
    "# total_elements = 15\n",
    "\n",
    "# 1*15 , 15*1\n",
    "# 5*3 , 3*5"
   ]
  },
  {
   "cell_type": "code",
   "execution_count": 120,
   "id": "473adeda-bc17-4cd3-af32-e3d09e0c30f4",
   "metadata": {},
   "outputs": [
    {
     "data": {
      "text/plain": [
       "array([[ 1,  2,  3],\n",
       "       [ 4,  5,  6],\n",
       "       [ 7,  8,  9],\n",
       "       [10, 11, 12],\n",
       "       [13, 14, 15]])"
      ]
     },
     "execution_count": 120,
     "metadata": {},
     "output_type": "execute_result"
    }
   ],
   "source": [
    "a.reshape(5,3)"
   ]
  },
  {
   "cell_type": "code",
   "execution_count": 122,
   "id": "4ee68471-f10f-4f47-a75e-03db5de0607f",
   "metadata": {},
   "outputs": [
    {
     "data": {
      "text/plain": [
       "array([[ 1,  2,  3,  4,  5],\n",
       "       [ 6,  7,  8,  9, 10],\n",
       "       [11, 12, 13, 14, 15]])"
      ]
     },
     "execution_count": 122,
     "metadata": {},
     "output_type": "execute_result"
    }
   ],
   "source": [
    "a.reshape(3,5)"
   ]
  },
  {
   "cell_type": "code",
   "execution_count": 124,
   "id": "b64c626d-7022-4842-9113-f3d09a05c2c9",
   "metadata": {},
   "outputs": [
    {
     "ename": "ValueError",
     "evalue": "cannot reshape array of size 15 into shape (5,5)",
     "output_type": "error",
     "traceback": [
      "\u001b[1;31m---------------------------------------------------------------------------\u001b[0m",
      "\u001b[1;31mValueError\u001b[0m                                Traceback (most recent call last)",
      "Cell \u001b[1;32mIn[124], line 1\u001b[0m\n\u001b[1;32m----> 1\u001b[0m a\u001b[38;5;241m.\u001b[39mreshape(\u001b[38;5;241m5\u001b[39m,\u001b[38;5;241m5\u001b[39m)\n",
      "\u001b[1;31mValueError\u001b[0m: cannot reshape array of size 15 into shape (5,5)"
     ]
    }
   ],
   "source": [
    "a.reshape(5,5)"
   ]
  },
  {
   "cell_type": "code",
   "execution_count": 157,
   "id": "b4cdf217-34ee-4978-93d7-b7a1193493bb",
   "metadata": {},
   "outputs": [
    {
     "data": {
      "text/plain": [
       "array([[1, 2],\n",
       "       [3, 4]])"
      ]
     },
     "execution_count": 157,
     "metadata": {},
     "output_type": "execute_result"
    }
   ],
   "source": [
    "a = np.arange(1,5).reshape(2,2)\n",
    "a"
   ]
  },
  {
   "cell_type": "code",
   "execution_count": 159,
   "id": "8c4e3a4b-ffaa-431a-b354-a040f706285d",
   "metadata": {},
   "outputs": [
    {
     "data": {
      "text/plain": [
       "array([[5, 6],\n",
       "       [7, 8]])"
      ]
     },
     "execution_count": 159,
     "metadata": {},
     "output_type": "execute_result"
    }
   ],
   "source": [
    "b = np.arange(5,9).reshape(2,2)\n",
    "b"
   ]
  },
  {
   "cell_type": "code",
   "execution_count": 161,
   "id": "cb1164d1-bb99-4738-8faa-b1fb2e16916f",
   "metadata": {},
   "outputs": [
    {
     "data": {
      "text/plain": [
       "array([[ 6,  8],\n",
       "       [10, 12]])"
      ]
     },
     "execution_count": 161,
     "metadata": {},
     "output_type": "execute_result"
    }
   ],
   "source": [
    "a+b"
   ]
  },
  {
   "cell_type": "code",
   "execution_count": 163,
   "id": "ed5f2cd9-8af6-4d7a-8302-17916a9e46ee",
   "metadata": {},
   "outputs": [
    {
     "data": {
      "text/plain": [
       "array([[-4, -4],\n",
       "       [-4, -4]])"
      ]
     },
     "execution_count": 163,
     "metadata": {},
     "output_type": "execute_result"
    }
   ],
   "source": [
    "a-b"
   ]
  },
  {
   "cell_type": "code",
   "execution_count": 165,
   "id": "e08e1135-f260-41f3-afbc-ce8735070f2b",
   "metadata": {},
   "outputs": [
    {
     "data": {
      "text/plain": [
       "array([[19, 22],\n",
       "       [43, 50]])"
      ]
     },
     "execution_count": 165,
     "metadata": {},
     "output_type": "execute_result"
    }
   ],
   "source": [
    "a.dot(b)  ## for matrix multiplication"
   ]
  },
  {
   "cell_type": "code",
   "execution_count": 167,
   "id": "507cfc99-6842-4cc5-83ed-99d5793d6a9e",
   "metadata": {},
   "outputs": [
    {
     "data": {
      "text/plain": [
       "array([[0.2 , 0.33],\n",
       "       [0.43, 0.5 ]])"
      ]
     },
     "execution_count": 167,
     "metadata": {},
     "output_type": "execute_result"
    }
   ],
   "source": [
    "a/b"
   ]
  },
  {
   "cell_type": "markdown",
   "id": "84e21041-adc5-41fc-b0d9-e5742c13bea4",
   "metadata": {},
   "source": [
    "# unique ()"
   ]
  },
  {
   "cell_type": "code",
   "execution_count": 147,
   "id": "4038821a-669d-435d-9dc2-fb85fc04c207",
   "metadata": {},
   "outputs": [],
   "source": [
    "# it will return 3 arrays.\n",
    "#  1) arr --> unique elements of array.\n",
    "# 2) return_index = true ---> indexing of unique element\n",
    "# 3) return_count = true ---> occurance or frequency of unique elements."
   ]
  },
  {
   "cell_type": "code",
   "execution_count": 155,
   "id": "5329fb70-5a37-4b0a-b368-2cbdace785d0",
   "metadata": {},
   "outputs": [
    {
     "data": {
      "text/plain": [
       "(array([1, 2, 3, 4]),\n",
       " array([ 0,  1,  6, 12], dtype=int64),\n",
       " array([5, 2, 5, 1], dtype=int64))"
      ]
     },
     "execution_count": 155,
     "metadata": {},
     "output_type": "execute_result"
    }
   ],
   "source": [
    "a = np.array([1,2,1,1,1,1,3,2,3,3,3,3,4])\n",
    "np.unique(a, return_index=True , return_counts=True)\n"
   ]
  },
  {
   "cell_type": "markdown",
   "id": "b5b8bb1e-a588-4273-8f4c-56cdb10cdfcf",
   "metadata": {},
   "source": [
    "# linespace()"
   ]
  },
  {
   "cell_type": "code",
   "execution_count": 170,
   "id": "d88c1c1f-294f-4b0a-84eb-62acb6731af6",
   "metadata": {},
   "outputs": [],
   "source": [
    "# it will return an array in which gap of values will be equal.\n",
    "# syntax ---> np.linespace(min_num , max_num , total_num)"
   ]
  },
  {
   "cell_type": "code",
   "execution_count": 178,
   "id": "b0ed6e88-d4c8-445d-9000-38654cb5265b",
   "metadata": {},
   "outputs": [
    {
     "data": {
      "text/plain": [
       "array([ 1. ,  5.5, 10. ])"
      ]
     },
     "execution_count": 178,
     "metadata": {},
     "output_type": "execute_result"
    }
   ],
   "source": [
    "a = np.linspace(1,10,3)\n",
    "a"
   ]
  },
  {
   "cell_type": "markdown",
   "id": "d002c76c-7bff-4f7b-bbdb-84d1a6bdddb6",
   "metadata": {},
   "source": [
    "# Hsatck() and Vstack()"
   ]
  },
  {
   "cell_type": "code",
   "execution_count": 181,
   "id": "d33c3ebc-6097-41f7-a8a4-3762417c54a1",
   "metadata": {},
   "outputs": [],
   "source": [
    "# hstack ---> it will give horizontally.\n",
    "#  vstack ---> it will give vertically.\n"
   ]
  },
  {
   "cell_type": "code",
   "execution_count": 13,
   "id": "37a66acf-67c2-443e-93e0-c86b8f2298f3",
   "metadata": {},
   "outputs": [],
   "source": [
    "a = ([1,2,3,4])\n",
    "b = ([5,6,7,8])\n",
    "c = ([9,10,11,12])"
   ]
  },
  {
   "cell_type": "code",
   "execution_count": 15,
   "id": "d3703b9e-d2b4-40dc-9163-77c901c450bf",
   "metadata": {},
   "outputs": [
    {
     "data": {
      "text/plain": [
       "array([ 1,  2,  3,  4,  5,  6,  7,  8,  9, 10, 11, 12])"
      ]
     },
     "execution_count": 15,
     "metadata": {},
     "output_type": "execute_result"
    }
   ],
   "source": [
    "np.hstack([a,b,c])"
   ]
  },
  {
   "cell_type": "code",
   "execution_count": 17,
   "id": "34aa3d75-6612-4e3b-a787-19156f0ae39e",
   "metadata": {},
   "outputs": [
    {
     "data": {
      "text/plain": [
       "array([[ 1,  2,  3,  4],\n",
       "       [ 5,  6,  7,  8],\n",
       "       [ 9, 10, 11, 12]])"
      ]
     },
     "execution_count": 17,
     "metadata": {},
     "output_type": "execute_result"
    }
   ],
   "source": [
    "np.vstack([a,b,c])"
   ]
  },
  {
   "cell_type": "code",
   "execution_count": null,
   "id": "21f51110-ccf0-4652-8d39-7ee676d07fc1",
   "metadata": {},
   "outputs": [],
   "source": []
  },
  {
   "cell_type": "code",
   "execution_count": null,
   "id": "3a0cc649-8d91-4743-9100-60ff8ede1dcb",
   "metadata": {},
   "outputs": [],
   "source": []
  }
 ],
 "metadata": {
  "kernelspec": {
   "display_name": "Python 3 (ipykernel)",
   "language": "python",
   "name": "python3"
  },
  "language_info": {
   "codemirror_mode": {
    "name": "ipython",
    "version": 3
   },
   "file_extension": ".py",
   "mimetype": "text/x-python",
   "name": "python",
   "nbconvert_exporter": "python",
   "pygments_lexer": "ipython3",
   "version": "3.12.4"
  }
 },
 "nbformat": 4,
 "nbformat_minor": 5
}
