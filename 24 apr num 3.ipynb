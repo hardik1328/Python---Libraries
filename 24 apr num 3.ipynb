{
 "cells": [
  {
   "cell_type": "code",
   "execution_count": 1,
   "id": "c89da574-c9ce-4bcf-80f2-bd634f5ff493",
   "metadata": {},
   "outputs": [],
   "source": [
    "import numpy as np"
   ]
  },
  {
   "cell_type": "markdown",
   "id": "450316e9-ee8e-4f5b-bbf8-af4a6c7aca5d",
   "metadata": {},
   "source": [
    "# Reshaping the array"
   ]
  },
  {
   "cell_type": "code",
   "execution_count": 4,
   "id": "c5896dc2-c44f-493f-b82d-796f0ffdbcbb",
   "metadata": {},
   "outputs": [],
   "source": [
    "# n(rows) * n(columns) = n(total_elements)\n",
    "\n",
    "# total_elements = 15\n",
    "\n",
    "# 1*15 , 15*1\n",
    "# 5*3 , 3*5"
   ]
  },
  {
   "cell_type": "code",
   "execution_count": 6,
   "id": "fc53838e-d272-49d6-b5ab-847749ee89e8",
   "metadata": {},
   "outputs": [],
   "source": [
    "a = np.arange(1,13,1)"
   ]
  },
  {
   "cell_type": "code",
   "execution_count": 8,
   "id": "a4aa1837-111e-451c-b6d6-b765ec9e5e75",
   "metadata": {},
   "outputs": [
    {
     "data": {
      "text/plain": [
       "array([ 1,  2,  3,  4,  5,  6,  7,  8,  9, 10, 11, 12])"
      ]
     },
     "execution_count": 8,
     "metadata": {},
     "output_type": "execute_result"
    }
   ],
   "source": [
    "a"
   ]
  },
  {
   "cell_type": "code",
   "execution_count": 10,
   "id": "76864dc1-1a60-4540-a360-e60853e9a95e",
   "metadata": {},
   "outputs": [
    {
     "data": {
      "text/plain": [
       "array([[ 1,  2,  3,  4,  5,  6],\n",
       "       [ 7,  8,  9, 10, 11, 12]])"
      ]
     },
     "execution_count": 10,
     "metadata": {},
     "output_type": "execute_result"
    }
   ],
   "source": [
    "a.reshape(2,6)"
   ]
  },
  {
   "cell_type": "code",
   "execution_count": 12,
   "id": "bc9ca24f-d5e0-4123-965f-f15b71dc9ee6",
   "metadata": {},
   "outputs": [
    {
     "data": {
      "text/plain": [
       "array([[ 1,  2,  3,  4],\n",
       "       [ 5,  6,  7,  8],\n",
       "       [ 9, 10, 11, 12]])"
      ]
     },
     "execution_count": 12,
     "metadata": {},
     "output_type": "execute_result"
    }
   ],
   "source": [
    "a.reshape(3,4)"
   ]
  },
  {
   "cell_type": "code",
   "execution_count": 14,
   "id": "e89f6789-fc96-4fa1-9ca1-a85d1a7bf223",
   "metadata": {},
   "outputs": [
    {
     "data": {
      "text/plain": [
       "array([[ 1,  2,  3],\n",
       "       [ 4,  5,  6],\n",
       "       [ 7,  8,  9],\n",
       "       [10, 11, 12]])"
      ]
     },
     "execution_count": 14,
     "metadata": {},
     "output_type": "execute_result"
    }
   ],
   "source": [
    "a.reshape(4,3)"
   ]
  },
  {
   "cell_type": "code",
   "execution_count": 16,
   "id": "80195825-dcb4-4106-ae83-7aec2923e3f9",
   "metadata": {},
   "outputs": [
    {
     "ename": "ValueError",
     "evalue": "cannot reshape array of size 12 into shape (6,3)",
     "output_type": "error",
     "traceback": [
      "\u001b[1;31m---------------------------------------------------------------------------\u001b[0m",
      "\u001b[1;31mValueError\u001b[0m                                Traceback (most recent call last)",
      "Cell \u001b[1;32mIn[16], line 1\u001b[0m\n\u001b[1;32m----> 1\u001b[0m a\u001b[38;5;241m.\u001b[39mreshape(\u001b[38;5;241m6\u001b[39m,\u001b[38;5;241m3\u001b[39m)\n",
      "\u001b[1;31mValueError\u001b[0m: cannot reshape array of size 12 into shape (6,3)"
     ]
    }
   ],
   "source": [
    "a.reshape(6,3)"
   ]
  },
  {
   "cell_type": "markdown",
   "id": "571caf3d-1c4d-4c94-bcdf-bec49221c2d7",
   "metadata": {},
   "source": [
    "## Operations on array"
   ]
  },
  {
   "cell_type": "code",
   "execution_count": 19,
   "id": "812b98d3-f02d-4771-b450-4252a2448d12",
   "metadata": {},
   "outputs": [
    {
     "data": {
      "text/plain": [
       "array([1, 2, 3, 4])"
      ]
     },
     "execution_count": 19,
     "metadata": {},
     "output_type": "execute_result"
    }
   ],
   "source": [
    "a = np.array([1,2,3,4])\n",
    "a"
   ]
  },
  {
   "cell_type": "code",
   "execution_count": 21,
   "id": "4882bc87-8af0-4b27-8b52-2fa620c376a2",
   "metadata": {},
   "outputs": [
    {
     "data": {
      "text/plain": [
       "array([ 1,  4,  9, 16])"
      ]
     },
     "execution_count": 21,
     "metadata": {},
     "output_type": "execute_result"
    }
   ],
   "source": [
    "a**2"
   ]
  },
  {
   "cell_type": "code",
   "execution_count": 23,
   "id": "cb9b33b1-356c-4a74-967c-6d188149a9c6",
   "metadata": {},
   "outputs": [
    {
     "data": {
      "text/plain": [
       "array([ 3,  6,  9, 12])"
      ]
     },
     "execution_count": 23,
     "metadata": {},
     "output_type": "execute_result"
    }
   ],
   "source": [
    "a*3"
   ]
  },
  {
   "cell_type": "code",
   "execution_count": 43,
   "id": "a00c90f6-8563-495d-9b8a-092dcb802f2a",
   "metadata": {},
   "outputs": [
    {
     "data": {
      "text/plain": [
       "array([[1, 2],\n",
       "       [3, 4]])"
      ]
     },
     "execution_count": 43,
     "metadata": {},
     "output_type": "execute_result"
    }
   ],
   "source": [
    "a = np.arange(1,5).reshape(2,2)\n",
    "a"
   ]
  },
  {
   "cell_type": "code",
   "execution_count": 45,
   "id": "37bc627a-5f13-45f5-aba7-1462561dec79",
   "metadata": {},
   "outputs": [
    {
     "data": {
      "text/plain": [
       "array([[5, 6],\n",
       "       [7, 8]])"
      ]
     },
     "execution_count": 45,
     "metadata": {},
     "output_type": "execute_result"
    }
   ],
   "source": [
    "b = np.arange(5,9).reshape(2,2)\n",
    "b"
   ]
  },
  {
   "cell_type": "code",
   "execution_count": 47,
   "id": "021f3af6-002f-4f73-862c-29e8bc58b762",
   "metadata": {},
   "outputs": [
    {
     "data": {
      "text/plain": [
       "array([[ 6,  8],\n",
       "       [10, 12]])"
      ]
     },
     "execution_count": 47,
     "metadata": {},
     "output_type": "execute_result"
    }
   ],
   "source": [
    "a+b"
   ]
  },
  {
   "cell_type": "code",
   "execution_count": 49,
   "id": "f3744d0d-ad7d-44c5-9c48-4fb2751bbaef",
   "metadata": {},
   "outputs": [
    {
     "data": {
      "text/plain": [
       "array([[-4, -4],\n",
       "       [-4, -4]])"
      ]
     },
     "execution_count": 49,
     "metadata": {},
     "output_type": "execute_result"
    }
   ],
   "source": [
    "a-b"
   ]
  },
  {
   "cell_type": "code",
   "execution_count": 51,
   "id": "f757e6f7-c3ad-4b2e-be88-a917fbf1da24",
   "metadata": {},
   "outputs": [
    {
     "data": {
      "text/plain": [
       "array([[ 5, 12],\n",
       "       [21, 32]])"
      ]
     },
     "execution_count": 51,
     "metadata": {},
     "output_type": "execute_result"
    }
   ],
   "source": [
    "a*b"
   ]
  },
  {
   "cell_type": "code",
   "execution_count": 53,
   "id": "865b44b7-dd99-48c6-ac6b-5d45186a9a92",
   "metadata": {},
   "outputs": [
    {
     "data": {
      "text/plain": [
       "array([[19, 22],\n",
       "       [43, 50]])"
      ]
     },
     "execution_count": 53,
     "metadata": {},
     "output_type": "execute_result"
    }
   ],
   "source": [
    "a.dot(b)"
   ]
  },
  {
   "cell_type": "code",
   "execution_count": 55,
   "id": "506515e0-7f36-4414-9563-8faeb81ca4de",
   "metadata": {},
   "outputs": [
    {
     "data": {
      "text/plain": [
       "array([1, 2, 3, 4, 5, 6, 7, 8, 9])"
      ]
     },
     "execution_count": 55,
     "metadata": {},
     "output_type": "execute_result"
    }
   ],
   "source": [
    "a = np.arange(1,10)\n",
    "a"
   ]
  },
  {
   "cell_type": "code",
   "execution_count": 57,
   "id": "a2efc80b-e111-4a70-84d3-ede972831c2b",
   "metadata": {},
   "outputs": [
    {
     "data": {
      "text/plain": [
       "array([[1, 2, 3],\n",
       "       [4, 5, 6],\n",
       "       [7, 8, 9]])"
      ]
     },
     "execution_count": 57,
     "metadata": {},
     "output_type": "execute_result"
    }
   ],
   "source": [
    "a = a.reshape(3,3)\n",
    "a"
   ]
  },
  {
   "cell_type": "code",
   "execution_count": 59,
   "id": "a2dd57cb-fcfe-4fd3-9775-962e2afb2f12",
   "metadata": {},
   "outputs": [
    {
     "data": {
      "text/plain": [
       "45"
      ]
     },
     "execution_count": 59,
     "metadata": {},
     "output_type": "execute_result"
    }
   ],
   "source": [
    "np.sum(a)   ## total sum"
   ]
  },
  {
   "cell_type": "code",
   "execution_count": 61,
   "id": "80e32958-1f95-4232-8f9f-b42439cb3f7a",
   "metadata": {},
   "outputs": [
    {
     "data": {
      "text/plain": [
       "array([12, 15, 18])"
      ]
     },
     "execution_count": 61,
     "metadata": {},
     "output_type": "execute_result"
    }
   ],
   "source": [
    "np.sum(a, axis =0)  ## colomn wise sum"
   ]
  },
  {
   "cell_type": "code",
   "execution_count": 63,
   "id": "2b2bebca-86ca-4793-b2ec-779d744cbc60",
   "metadata": {},
   "outputs": [
    {
     "data": {
      "text/plain": [
       "array([ 6, 15, 24])"
      ]
     },
     "execution_count": 63,
     "metadata": {},
     "output_type": "execute_result"
    }
   ],
   "source": [
    "np.sum(a, axis =1)  ## row wise sum"
   ]
  },
  {
   "cell_type": "markdown",
   "id": "2523390f-1d3b-429d-9c29-74eb5ec4db3a",
   "metadata": {},
   "source": [
    "## Unique()"
   ]
  },
  {
   "cell_type": "code",
   "execution_count": 66,
   "id": "2d92264b-5366-439c-aff0-cc40c97926c7",
   "metadata": {},
   "outputs": [],
   "source": [
    "# it will return unique elements of array and its indexing and total occurance."
   ]
  },
  {
   "cell_type": "code",
   "execution_count": 68,
   "id": "f06139f4-b66e-447f-92f6-6196789a64fc",
   "metadata": {},
   "outputs": [
    {
     "data": {
      "text/plain": [
       "(array([1, 2, 3, 4, 5]),\n",
       " array([ 0,  1,  9, 11, 12], dtype=int64),\n",
       " array([2, 8, 1, 1, 1], dtype=int64))"
      ]
     },
     "execution_count": 68,
     "metadata": {},
     "output_type": "execute_result"
    }
   ],
   "source": [
    "a = np.array([1,2,2,2,2,2,2,2,2,3,1,4,5])\n",
    "np.unique(a, return_index=True , return_counts=True)"
   ]
  },
  {
   "cell_type": "markdown",
   "id": "328c7d37-cb50-4382-9f0e-3ffcaee46441",
   "metadata": {},
   "source": [
    "## linespace()"
   ]
  },
  {
   "cell_type": "code",
   "execution_count": 71,
   "id": "12ccb5ad-6c9b-43b5-a128-5c34f5b01528",
   "metadata": {},
   "outputs": [],
   "source": [
    "# it will return an array in which gap of values will be equal.\n",
    "# syntax ---> np.linespace(min_num , max_num , total_num)"
   ]
  },
  {
   "cell_type": "code",
   "execution_count": 73,
   "id": "d36506a2-068e-4208-ad8a-9f27502c22eb",
   "metadata": {},
   "outputs": [
    {
     "data": {
      "text/plain": [
       "array([1.  , 1.25, 1.5 , 1.75, 2.  ])"
      ]
     },
     "execution_count": 73,
     "metadata": {},
     "output_type": "execute_result"
    }
   ],
   "source": [
    "a = np.linspace(1,2,5)\n",
    "a"
   ]
  },
  {
   "cell_type": "markdown",
   "id": "6655e848-21a7-4042-96c9-929a896975df",
   "metadata": {},
   "source": [
    "## Hsatck() and Vstack()"
   ]
  },
  {
   "cell_type": "code",
   "execution_count": 76,
   "id": "5fcf06db-8de3-4aaa-ae92-f3bbdd2ad8d6",
   "metadata": {},
   "outputs": [],
   "source": [
    "# hstack ---> it will give horizontally.\n",
    "#  vstack ---> it will give vertically.\n"
   ]
  },
  {
   "cell_type": "code",
   "execution_count": 78,
   "id": "2b02518e-6c6b-437c-8071-a065275fd2da",
   "metadata": {},
   "outputs": [],
   "source": [
    "a = ([1,2,3,4])\n",
    "b = ([5,6,7,8])\n",
    "c = ([9,10,11,12])"
   ]
  },
  {
   "cell_type": "code",
   "execution_count": 80,
   "id": "ca8ec62a-4818-412c-821c-75393bdffcc4",
   "metadata": {},
   "outputs": [
    {
     "data": {
      "text/plain": [
       "array([ 1,  2,  3,  4,  5,  6,  7,  8,  9, 10, 11, 12])"
      ]
     },
     "execution_count": 80,
     "metadata": {},
     "output_type": "execute_result"
    }
   ],
   "source": [
    "np.hstack([a,b,c])"
   ]
  },
  {
   "cell_type": "code",
   "execution_count": 82,
   "id": "06aec35e-5e57-475b-acdf-8fb9afb88a32",
   "metadata": {},
   "outputs": [
    {
     "data": {
      "text/plain": [
       "array([[ 1,  2,  3,  4],\n",
       "       [ 5,  6,  7,  8],\n",
       "       [ 9, 10, 11, 12]])"
      ]
     },
     "execution_count": 82,
     "metadata": {},
     "output_type": "execute_result"
    }
   ],
   "source": [
    "np.vstack([a,b,c])"
   ]
  },
  {
   "cell_type": "code",
   "execution_count": null,
   "id": "9f048005-fe93-46c6-8c4d-90731b8255c9",
   "metadata": {},
   "outputs": [],
   "source": []
  }
 ],
 "metadata": {
  "kernelspec": {
   "display_name": "Python 3 (ipykernel)",
   "language": "python",
   "name": "python3"
  },
  "language_info": {
   "codemirror_mode": {
    "name": "ipython",
    "version": 3
   },
   "file_extension": ".py",
   "mimetype": "text/x-python",
   "name": "python",
   "nbconvert_exporter": "python",
   "pygments_lexer": "ipython3",
   "version": "3.12.4"
  }
 },
 "nbformat": 4,
 "nbformat_minor": 5
}
