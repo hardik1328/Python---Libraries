{
 "cells": [
  {
   "cell_type": "code",
   "execution_count": 1,
   "id": "48654fd3-fbbc-42f1-ba27-7c181423ecf0",
   "metadata": {},
   "outputs": [],
   "source": [
    "# Introduction to Numpy -----> \n",
    "# Numpy is an open source library that is used for scientific calculations . \n",
    "\n",
    "### Why Numpy is better than List ? \n",
    "# (1). List hetrogenous data type and Numpy homogenous data type .\n",
    "# (2). List take more memory as compare to Numpy . \n",
    "# (3). List take more time execution as compare to Numpy . "
   ]
  },
  {
   "cell_type": "code",
   "execution_count": 3,
   "id": "b6842316-d413-460a-9aa9-d094ef96a732",
   "metadata": {},
   "outputs": [],
   "source": [
    "# !pip install numpy "
   ]
  },
  {
   "cell_type": "code",
   "execution_count": 5,
   "id": "00aa62cc-175d-4303-b333-67ba78f8a539",
   "metadata": {},
   "outputs": [],
   "source": [
    "import numpy as np "
   ]
  },
  {
   "cell_type": "code",
   "execution_count": 7,
   "id": "92fd0b98-3641-4aa4-bb6c-c52753451c13",
   "metadata": {},
   "outputs": [
    {
     "data": {
      "text/plain": [
       "list"
      ]
     },
     "execution_count": 7,
     "metadata": {},
     "output_type": "execute_result"
    }
   ],
   "source": [
    "a = [1,34,54]\n",
    "type(a)"
   ]
  },
  {
   "cell_type": "code",
   "execution_count": 9,
   "id": "09302288-0792-4573-a066-dec30f8f231a",
   "metadata": {},
   "outputs": [
    {
     "data": {
      "text/plain": [
       "array([ 1, 34, 54])"
      ]
     },
     "execution_count": 9,
     "metadata": {},
     "output_type": "execute_result"
    }
   ],
   "source": [
    "b = np.array(a)\n",
    "b"
   ]
  },
  {
   "cell_type": "code",
   "execution_count": 11,
   "id": "7d950f96-6bc3-4524-a743-ca46609d5893",
   "metadata": {},
   "outputs": [
    {
     "data": {
      "text/plain": [
       "numpy.ndarray"
      ]
     },
     "execution_count": 11,
     "metadata": {},
     "output_type": "execute_result"
    }
   ],
   "source": [
    "type(b)"
   ]
  },
  {
   "cell_type": "code",
   "execution_count": 13,
   "id": "abaa19a6-8c18-4f16-a314-27df430d0e8e",
   "metadata": {},
   "outputs": [
    {
     "name": "stdin",
     "output_type": "stream",
     "text": [
      "enter size: 4\n",
      "enter number: 5\n",
      "enter number: 6\n",
      "enter number: 7\n",
      "enter number: 8\n"
     ]
    },
    {
     "data": {
      "text/plain": [
       "array([5, 6, 7, 8])"
      ]
     },
     "execution_count": 13,
     "metadata": {},
     "output_type": "execute_result"
    }
   ],
   "source": [
    "a =[]\n",
    "size = int(input(\"enter size:\"))\n",
    "for i in range(size):\n",
    "    val = int(input(\"enter number:\"))\n",
    "    a.append(val)\n",
    "b = np.array(a)\n",
    "b"
   ]
  },
  {
   "cell_type": "code",
   "execution_count": 15,
   "id": "4c82f652-457f-498d-87f2-c286a6bbe3d5",
   "metadata": {},
   "outputs": [
    {
     "data": {
      "text/plain": [
       "numpy.ndarray"
      ]
     },
     "execution_count": 15,
     "metadata": {},
     "output_type": "execute_result"
    }
   ],
   "source": [
    "type(b)"
   ]
  },
  {
   "cell_type": "code",
   "execution_count": 19,
   "id": "b7b51dd4-ee5f-41b0-aa24-028a70adb484",
   "metadata": {},
   "outputs": [
    {
     "data": {
      "text/plain": [
       "array([[1, 2, 3, 0],\n",
       "       [4, 5, 6, 7],\n",
       "       [3, 5, 7, 8]])"
      ]
     },
     "execution_count": 19,
     "metadata": {},
     "output_type": "execute_result"
    }
   ],
   "source": [
    "a = [[1,2,3,0] , [4,5,6,7] , [3,5,7,8]]\n",
    "b = np.array(a)\n",
    "b"
   ]
  },
  {
   "cell_type": "code",
   "execution_count": 21,
   "id": "750d6903-079d-4f96-ad39-a4dd954381a2",
   "metadata": {},
   "outputs": [
    {
     "name": "stdout",
     "output_type": "stream",
     "text": [
      "Total Shape =  (3, 4)\n"
     ]
    }
   ],
   "source": [
    "print(\"Total Shape = \" , b.shape)  ###shape = n(rows) , n(columns) "
   ]
  },
  {
   "cell_type": "code",
   "execution_count": 23,
   "id": "94027582-028d-454d-aabb-d47d49f76818",
   "metadata": {},
   "outputs": [
    {
     "name": "stdout",
     "output_type": "stream",
     "text": [
      "Total Elements =  12\n"
     ]
    }
   ],
   "source": [
    "print(\"Total Elements = \" , b.size)  ### size = n(rows) * n(columns) "
   ]
  },
  {
   "cell_type": "code",
   "execution_count": 25,
   "id": "c5453393-20ad-47a7-91de-2065b9e30ea8",
   "metadata": {},
   "outputs": [
    {
     "name": "stdout",
     "output_type": "stream",
     "text": [
      "Total Dimension =  2\n"
     ]
    }
   ],
   "source": [
    "print(\"Total Dimension = \" , b.ndim)  ### ndim stands for n_dimension ---> 2 (x,y)"
   ]
  },
  {
   "cell_type": "code",
   "execution_count": 27,
   "id": "a8316295-a347-4aed-ae9a-2fb097641285",
   "metadata": {},
   "outputs": [],
   "source": [
    "# Pre-defined functions in Numpy "
   ]
  },
  {
   "cell_type": "code",
   "execution_count": 29,
   "id": "ce60f27c-4bd1-453d-a53d-f93ffc17fba2",
   "metadata": {},
   "outputs": [],
   "source": [
    "# (1). zeros() ----> It will return an array in which all the values will be 0 in \n",
    "# either one-dimensional or multi-dimensional . "
   ]
  },
  {
   "cell_type": "code",
   "execution_count": 51,
   "id": "96549159-c952-4500-a497-ae49217bb472",
   "metadata": {},
   "outputs": [
    {
     "data": {
      "text/plain": [
       "array([0., 0., 0.])"
      ]
     },
     "execution_count": 51,
     "metadata": {},
     "output_type": "execute_result"
    }
   ],
   "source": [
    "a = np.zeros(3)\n",
    "a"
   ]
  },
  {
   "cell_type": "code",
   "execution_count": 53,
   "id": "47ccf00d-1bcd-4e41-9253-603a4397c2be",
   "metadata": {},
   "outputs": [
    {
     "data": {
      "text/plain": [
       "array([[0., 0., 0.],\n",
       "       [0., 0., 0.],\n",
       "       [0., 0., 0.]])"
      ]
     },
     "execution_count": 53,
     "metadata": {},
     "output_type": "execute_result"
    }
   ],
   "source": [
    "b = np.zeros((3,3))\n",
    "b"
   ]
  },
  {
   "cell_type": "code",
   "execution_count": 55,
   "id": "2ee1693e-c21f-4cbd-a355-dd0955aadac1",
   "metadata": {},
   "outputs": [
    {
     "name": "stdout",
     "output_type": "stream",
     "text": [
      "Total Shape = (3,)\n",
      "Total Elements = 3\n"
     ]
    }
   ],
   "source": [
    "print(\"Total Shape =\", a.shape)\n",
    "print(\"Total Elements =\", a.size)"
   ]
  },
  {
   "cell_type": "code",
   "execution_count": 57,
   "id": "b2287bf0-d348-4ebf-a971-5a7e260fc822",
   "metadata": {},
   "outputs": [
    {
     "name": "stdout",
     "output_type": "stream",
     "text": [
      "Total Shape = (3, 3)\n",
      "Total Elements = 9\n"
     ]
    }
   ],
   "source": [
    "print(\"Total Shape =\", b.shape)\n",
    "print(\"Total Elements =\", b.size)"
   ]
  },
  {
   "cell_type": "code",
   "execution_count": null,
   "id": "00a858e0-4e82-4f45-a69f-5e8a605b1a59",
   "metadata": {},
   "outputs": [],
   "source": []
  }
 ],
 "metadata": {
  "kernelspec": {
   "display_name": "Python 3 (ipykernel)",
   "language": "python",
   "name": "python3"
  },
  "language_info": {
   "codemirror_mode": {
    "name": "ipython",
    "version": 3
   },
   "file_extension": ".py",
   "mimetype": "text/x-python",
   "name": "python",
   "nbconvert_exporter": "python",
   "pygments_lexer": "ipython3",
   "version": "3.12.4"
  }
 },
 "nbformat": 4,
 "nbformat_minor": 5
}
