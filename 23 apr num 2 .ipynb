{
 "cells": [
  {
   "cell_type": "code",
   "execution_count": 3,
   "id": "dbd87fa9-36f9-403e-90bf-56b502017256",
   "metadata": {},
   "outputs": [],
   "source": [
    "import numpy as np"
   ]
  },
  {
   "cell_type": "code",
   "execution_count": 5,
   "id": "69add49e-3102-43bf-9e40-02a18b39b2fd",
   "metadata": {},
   "outputs": [
    {
     "data": {
      "text/plain": [
       "array([[1, 2, 3],\n",
       "       [4, 5, 6],\n",
       "       [7, 8, 9]])"
      ]
     },
     "execution_count": 5,
     "metadata": {},
     "output_type": "execute_result"
    }
   ],
   "source": [
    "a = [[1,2,3] , [4,5,6] , [7,8,9]]\n",
    "b= np.array(a)\n",
    "b"
   ]
  },
  {
   "cell_type": "code",
   "execution_count": 7,
   "id": "7ac1f6c1-9121-49b1-9ced-455461b5207b",
   "metadata": {},
   "outputs": [],
   "source": [
    "# Functions "
   ]
  },
  {
   "cell_type": "code",
   "execution_count": 9,
   "id": "73cb4f5f-1c18-4b40-a8a1-dc0e5fe6b653",
   "metadata": {},
   "outputs": [
    {
     "data": {
      "text/plain": [
       "array([0., 0., 0., 0.])"
      ]
     },
     "execution_count": 9,
     "metadata": {},
     "output_type": "execute_result"
    }
   ],
   "source": [
    "# (1). zeros() ----> \n",
    "a = np.zeros(4) \n",
    "a"
   ]
  },
  {
   "cell_type": "code",
   "execution_count": 11,
   "id": "bbe07c15-990f-4363-8f60-cacf281fb6ac",
   "metadata": {},
   "outputs": [
    {
     "data": {
      "text/plain": [
       "array([1., 1., 1., 1.])"
      ]
     },
     "execution_count": 11,
     "metadata": {},
     "output_type": "execute_result"
    }
   ],
   "source": [
    "# (2). ones() ---> It will create an array in which all the values are 1 . \n",
    "a = np.ones(4) \n",
    "a"
   ]
  },
  {
   "cell_type": "code",
   "execution_count": 13,
   "id": "de84f21b-ed9d-4b3f-a1dd-bc37643bcd64",
   "metadata": {},
   "outputs": [],
   "source": [
    "# (3). eye() ----> It will create an array in which digonal positional \n",
    "# elements will be 1 and rest all are 0 . "
   ]
  },
  {
   "cell_type": "code",
   "execution_count": 15,
   "id": "f809adda-a687-423b-bce3-f59954b4a35d",
   "metadata": {},
   "outputs": [
    {
     "data": {
      "text/plain": [
       "array([[1., 0., 0.],\n",
       "       [0., 1., 0.],\n",
       "       [0., 0., 1.]])"
      ]
     },
     "execution_count": 15,
     "metadata": {},
     "output_type": "execute_result"
    }
   ],
   "source": [
    "a = np.eye(3) \n",
    "a"
   ]
  },
  {
   "cell_type": "code",
   "execution_count": 17,
   "id": "a69ec008-9661-4129-b34d-0bef555cbd8c",
   "metadata": {},
   "outputs": [],
   "source": [
    "# (4). diag() ----> Using this method , we can create an array in which we can\n",
    "# customize our digonal positional elements . "
   ]
  },
  {
   "cell_type": "code",
   "execution_count": 19,
   "id": "bbcce367-12c0-4470-8855-889254661c27",
   "metadata": {},
   "outputs": [
    {
     "data": {
      "text/plain": [
       "array([[ 1,  0,  0,  0],\n",
       "       [ 0, 45,  0,  0],\n",
       "       [ 0,  0, 67,  0],\n",
       "       [ 0,  0,  0, 90]])"
      ]
     },
     "execution_count": 19,
     "metadata": {},
     "output_type": "execute_result"
    }
   ],
   "source": [
    "a = np.diag([1,45,67,90])\n",
    "a"
   ]
  },
  {
   "cell_type": "markdown",
   "id": "99217f2a-abf6-4af4-acd9-867cbc6eab0e",
   "metadata": {},
   "source": [
    "## # (5). Random Module "
   ]
  },
  {
   "cell_type": "code",
   "execution_count": 22,
   "id": "9bc11589-0db5-4a02-bca3-fcc919d45b81",
   "metadata": {},
   "outputs": [],
   "source": [
    "# (a). Randint() ----> It will generate random numbers in a given range. \n",
    "# syntax: np.random.randint(min_value , max_value , total_numbers)"
   ]
  },
  {
   "cell_type": "code",
   "execution_count": 24,
   "id": "f8811ca1-9ba2-43f1-847f-1326210a06f8",
   "metadata": {},
   "outputs": [
    {
     "data": {
      "text/plain": [
       "array([1, 3, 2])"
      ]
     },
     "execution_count": 24,
     "metadata": {},
     "output_type": "execute_result"
    }
   ],
   "source": [
    "a = np.random.randint(1,10,3)\n",
    "a"
   ]
  },
  {
   "cell_type": "code",
   "execution_count": 26,
   "id": "6252b33d-6cab-47a5-aed8-cb2e5823e6d5",
   "metadata": {},
   "outputs": [],
   "source": [
    "# (b). Rand() ----> It will generate random numbers in range 0-1. "
   ]
  },
  {
   "cell_type": "code",
   "execution_count": 28,
   "id": "4d0c70e7-f2f2-4dcd-9f4d-2e42a866f9b7",
   "metadata": {},
   "outputs": [
    {
     "data": {
      "text/plain": [
       "array([[0.91519404, 0.13416123, 0.4359678 ],\n",
       "       [0.04146579, 0.2453761 , 0.21667852],\n",
       "       [0.53378543, 0.23409353, 0.8494414 ]])"
      ]
     },
     "execution_count": 28,
     "metadata": {},
     "output_type": "execute_result"
    }
   ],
   "source": [
    "a = np.random.rand(3,3) \n",
    "a"
   ]
  },
  {
   "cell_type": "code",
   "execution_count": 30,
   "id": "3961d695-8038-47d0-9f34-dbc9825448aa",
   "metadata": {},
   "outputs": [],
   "source": [
    "# (c). seed() ----> It will fix our random generated data . "
   ]
  },
  {
   "cell_type": "code",
   "execution_count": 32,
   "id": "c11d8736-daf6-4df4-911b-fc3c66cd26e8",
   "metadata": {},
   "outputs": [
    {
     "data": {
      "text/plain": [
       "array([6, 6, 5])"
      ]
     },
     "execution_count": 32,
     "metadata": {},
     "output_type": "execute_result"
    }
   ],
   "source": [
    "np.random.seed(30) \n",
    "a = np.random.randint(1,10,3)\n",
    "a"
   ]
  },
  {
   "cell_type": "code",
   "execution_count": 34,
   "id": "da6cb5ee-b261-45d6-8446-639c75253e6a",
   "metadata": {},
   "outputs": [],
   "source": [
    "# (6). view vs copy ------> \n",
    "# view means modification in original dataset . \n",
    "# copy means modification in duplicate data . "
   ]
  },
  {
   "cell_type": "code",
   "execution_count": 36,
   "id": "4330d55c-ca4e-4705-8809-3a5a02cfce3d",
   "metadata": {},
   "outputs": [
    {
     "data": {
      "text/plain": [
       "array([0, 0, 0])"
      ]
     },
     "execution_count": 36,
     "metadata": {},
     "output_type": "execute_result"
    }
   ],
   "source": [
    "a = np.array([1,2,3,4,5,6,7,8,9])\n",
    "b = a[2:5]\n",
    "b[:] = 0 \n",
    "b"
   ]
  },
  {
   "cell_type": "code",
   "execution_count": 38,
   "id": "5f2d702f-baad-4228-aed6-b4546f098e08",
   "metadata": {},
   "outputs": [
    {
     "data": {
      "text/plain": [
       "array([1, 2, 0, 0, 0, 6, 7, 8, 9])"
      ]
     },
     "execution_count": 38,
     "metadata": {},
     "output_type": "execute_result"
    }
   ],
   "source": [
    "a"
   ]
  },
  {
   "cell_type": "code",
   "execution_count": 40,
   "id": "49ac1c6b-f782-466e-9624-8e70c2c60d14",
   "metadata": {},
   "outputs": [
    {
     "data": {
      "text/plain": [
       "array([0, 0, 0])"
      ]
     },
     "execution_count": 40,
     "metadata": {},
     "output_type": "execute_result"
    }
   ],
   "source": [
    "a = np.array([1,2,3,4,5,6,7,8,9])\n",
    "b = a[2:5].copy() \n",
    "b[:] = 0 \n",
    "b"
   ]
  },
  {
   "cell_type": "code",
   "execution_count": 42,
   "id": "0ec319e4-a603-48ae-99e4-8b5c61647244",
   "metadata": {},
   "outputs": [
    {
     "data": {
      "text/plain": [
       "array([1, 2, 3, 4, 5, 6, 7, 8, 9])"
      ]
     },
     "execution_count": 42,
     "metadata": {},
     "output_type": "execute_result"
    }
   ],
   "source": [
    "a"
   ]
  },
  {
   "cell_type": "code",
   "execution_count": null,
   "id": "d51afd24-fa52-414f-b2b9-fea530fb22d2",
   "metadata": {},
   "outputs": [],
   "source": []
  }
 ],
 "metadata": {
  "kernelspec": {
   "display_name": "Python 3 (ipykernel)",
   "language": "python",
   "name": "python3"
  },
  "language_info": {
   "codemirror_mode": {
    "name": "ipython",
    "version": 3
   },
   "file_extension": ".py",
   "mimetype": "text/x-python",
   "name": "python",
   "nbconvert_exporter": "python",
   "pygments_lexer": "ipython3",
   "version": "3.12.4"
  }
 },
 "nbformat": 4,
 "nbformat_minor": 5
}
