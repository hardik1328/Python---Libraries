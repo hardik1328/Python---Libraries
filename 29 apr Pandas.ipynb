{
 "cells": [
  {
   "cell_type": "markdown",
   "id": "d83fe24f-2632-4be6-96d8-c4807491860d",
   "metadata": {},
   "source": [
    "# Pandas"
   ]
  },
  {
   "cell_type": "markdown",
   "id": "cd97d3e7-6a0b-4df1-b5e4-d5e4eefb112a",
   "metadata": {},
   "source": [
    "Pandas is an open source library of python that is used for handle data manipulations."
   ]
  },
  {
   "cell_type": "code",
   "execution_count": 3,
   "id": "3311e3c0-3bcb-4f90-acc0-a5570334b251",
   "metadata": {},
   "outputs": [],
   "source": [
    "import pandas as pd"
   ]
  },
  {
   "cell_type": "code",
   "execution_count": 7,
   "id": "41ae4623-ea89-4682-9b66-8d77fb3baa31",
   "metadata": {},
   "outputs": [],
   "source": [
    "# Data Sturcture of pandas :->\n",
    "\n",
    "# (a). series -->  it is 1-d array and it shows only values.\n",
    "# (b). Dataframe -->  it is multi-dimensional array and it contains value with column name."
   ]
  },
  {
   "cell_type": "markdown",
   "id": "05538537-f4dd-4c40-93d8-402f7e8f6662",
   "metadata": {},
   "source": [
    "# (a). Series"
   ]
  },
  {
   "cell_type": "code",
   "execution_count": 14,
   "id": "369e4765-362f-4e4a-8132-da8de36ed3f8",
   "metadata": {},
   "outputs": [
    {
     "data": {
      "text/plain": [
       "0     1\n",
       "1    45\n",
       "2    78\n",
       "3    99\n",
       "dtype: int64"
      ]
     },
     "execution_count": 14,
     "metadata": {},
     "output_type": "execute_result"
    }
   ],
   "source": [
    "a = pd.Series([1,45,78,99])\n",
    "a"
   ]
  },
  {
   "cell_type": "code",
   "execution_count": 16,
   "id": "0eb7705c-966f-49dc-83ad-b9fd7c171e19",
   "metadata": {},
   "outputs": [
    {
     "data": {
      "text/plain": [
       "pandas.core.series.Series"
      ]
     },
     "execution_count": 16,
     "metadata": {},
     "output_type": "execute_result"
    }
   ],
   "source": [
    "type(a)"
   ]
  },
  {
   "cell_type": "markdown",
   "id": "01f2df1f-3b88-42e3-a5f9-be2731ffec84",
   "metadata": {},
   "source": [
    "# (b). Dataframe"
   ]
  },
  {
   "cell_type": "code",
   "execution_count": 19,
   "id": "88423922-6419-4ca4-a605-820fb6fe2170",
   "metadata": {},
   "outputs": [],
   "source": [
    "a = {\n",
    "    \"emp_id\" : [1,2,3,4],\n",
    "    \"name\" : [\"sam\", \" raj\" , \"mohit\", \"hardik\"],\n",
    "    \"department\" : ['it', 'sales' , 'it','it'],\n",
    "    \"salary\" : [20000,45000,25000,100000]\n",
    "    \n",
    "}"
   ]
  },
  {
   "cell_type": "code",
   "execution_count": 23,
   "id": "93db1d58-eaf3-43f1-b723-561907462b8a",
   "metadata": {},
   "outputs": [
    {
     "data": {
      "text/html": [
       "<div>\n",
       "<style scoped>\n",
       "    .dataframe tbody tr th:only-of-type {\n",
       "        vertical-align: middle;\n",
       "    }\n",
       "\n",
       "    .dataframe tbody tr th {\n",
       "        vertical-align: top;\n",
       "    }\n",
       "\n",
       "    .dataframe thead th {\n",
       "        text-align: right;\n",
       "    }\n",
       "</style>\n",
       "<table border=\"1\" class=\"dataframe\">\n",
       "  <thead>\n",
       "    <tr style=\"text-align: right;\">\n",
       "      <th></th>\n",
       "      <th>emp_id</th>\n",
       "      <th>name</th>\n",
       "      <th>department</th>\n",
       "      <th>salary</th>\n",
       "    </tr>\n",
       "  </thead>\n",
       "  <tbody>\n",
       "    <tr>\n",
       "      <th>0</th>\n",
       "      <td>1</td>\n",
       "      <td>sam</td>\n",
       "      <td>it</td>\n",
       "      <td>20000</td>\n",
       "    </tr>\n",
       "    <tr>\n",
       "      <th>1</th>\n",
       "      <td>2</td>\n",
       "      <td>raj</td>\n",
       "      <td>sales</td>\n",
       "      <td>45000</td>\n",
       "    </tr>\n",
       "    <tr>\n",
       "      <th>2</th>\n",
       "      <td>3</td>\n",
       "      <td>mohit</td>\n",
       "      <td>it</td>\n",
       "      <td>25000</td>\n",
       "    </tr>\n",
       "    <tr>\n",
       "      <th>3</th>\n",
       "      <td>4</td>\n",
       "      <td>hardik</td>\n",
       "      <td>it</td>\n",
       "      <td>100000</td>\n",
       "    </tr>\n",
       "  </tbody>\n",
       "</table>\n",
       "</div>"
      ],
      "text/plain": [
       "   emp_id    name department  salary\n",
       "0       1     sam         it   20000\n",
       "1       2     raj      sales   45000\n",
       "2       3   mohit         it   25000\n",
       "3       4  hardik         it  100000"
      ]
     },
     "execution_count": 23,
     "metadata": {},
     "output_type": "execute_result"
    }
   ],
   "source": [
    "df = pd.DataFrame(a)\n",
    "df"
   ]
  },
  {
   "cell_type": "code",
   "execution_count": 33,
   "id": "fdd37607-3ed5-4412-b75b-469721ee52b7",
   "metadata": {},
   "outputs": [],
   "source": [
    "df.to_csv(\"C:\\\\Users\\\\hardi\\\\OneDrive - wipro\\\\Desktop\\\\panda\\\\emp_info.csv\", index=False)\n"
   ]
  },
  {
   "cell_type": "code",
   "execution_count": null,
   "id": "725a90be-f22a-4bb3-a61e-52be1d6d0e76",
   "metadata": {},
   "outputs": [],
   "source": []
  }
 ],
 "metadata": {
  "kernelspec": {
   "display_name": "Python 3 (ipykernel)",
   "language": "python",
   "name": "python3"
  },
  "language_info": {
   "codemirror_mode": {
    "name": "ipython",
    "version": 3
   },
   "file_extension": ".py",
   "mimetype": "text/x-python",
   "name": "python",
   "nbconvert_exporter": "python",
   "pygments_lexer": "ipython3",
   "version": "3.12.4"
  }
 },
 "nbformat": 4,
 "nbformat_minor": 5
}
